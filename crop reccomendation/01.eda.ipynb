{
 "cells": [
  {
   "cell_type": "code",
   "execution_count": 3,
   "id": "36c455ee",
   "metadata": {},
   "outputs": [
    {
     "name": "stdout",
     "output_type": "stream",
     "text": [
      "    N   P   K  temperature   humidity        ph    rainfall label\n",
      "0  90  42  43    20.879744  82.002744  6.502985  202.935536  rice\n",
      "1  85  58  41    21.770462  80.319644  7.038096  226.655537  rice\n",
      "2  60  55  44    23.004459  82.320763  7.840207  263.964248  rice\n",
      "3  74  35  40    26.491096  80.158363  6.980401  242.864034  rice\n",
      "4  78  42  42    20.130175  81.604873  7.628473  262.717340  rice\n",
      "<class 'pandas.core.frame.DataFrame'>\n",
      "RangeIndex: 2200 entries, 0 to 2199\n",
      "Data columns (total 8 columns):\n",
      " #   Column       Non-Null Count  Dtype  \n",
      "---  ------       --------------  -----  \n",
      " 0   N            2200 non-null   int64  \n",
      " 1   P            2200 non-null   int64  \n",
      " 2   K            2200 non-null   int64  \n",
      " 3   temperature  2200 non-null   float64\n",
      " 4   humidity     2200 non-null   float64\n",
      " 5   ph           2200 non-null   float64\n",
      " 6   rainfall     2200 non-null   float64\n",
      " 7   label        2200 non-null   object \n",
      "dtypes: float64(4), int64(3), object(1)\n",
      "memory usage: 137.6+ KB\n",
      "None\n",
      "                 N            P            K  temperature     humidity  \\\n",
      "count  2200.000000  2200.000000  2200.000000  2200.000000  2200.000000   \n",
      "mean     50.551818    53.362727    48.149091    25.616244    71.481779   \n",
      "std      36.917334    32.985883    50.647931     5.063749    22.263812   \n",
      "min       0.000000     5.000000     5.000000     8.825675    14.258040   \n",
      "25%      21.000000    28.000000    20.000000    22.769375    60.261953   \n",
      "50%      37.000000    51.000000    32.000000    25.598693    80.473146   \n",
      "75%      84.250000    68.000000    49.000000    28.561654    89.948771   \n",
      "max     140.000000   145.000000   205.000000    43.675493    99.981876   \n",
      "\n",
      "                ph     rainfall  \n",
      "count  2200.000000  2200.000000  \n",
      "mean      6.469480   103.463655  \n",
      "std       0.773938    54.958389  \n",
      "min       3.504752    20.211267  \n",
      "25%       5.971693    64.551686  \n",
      "50%       6.425045    94.867624  \n",
      "75%       6.923643   124.267508  \n",
      "max       9.935091   298.560117  \n"
     ]
    }
   ],
   "source": [
    "# load data\n",
    "import pandas as pd\n",
    "df = pd.read_csv('data/crops_data.csv')\n",
    "print(df.head())\n",
    "print(df.info())\n",
    "print(df.describe())\n",
    "\n",
    "\n"
   ]
  },
  {
   "cell_type": "code",
   "execution_count": 5,
   "id": "7c252e14",
   "metadata": {},
   "outputs": [
    {
     "name": "stdout",
     "output_type": "stream",
     "text": [
      "        N   P   K  temperature  humidity   ph  rainfall    crop\n",
      "0      90  42  43         20.9      82.0  6.5     202.9    rice\n",
      "1      85  58  41         21.8      80.3  7.0     226.7    rice\n",
      "2      60  55  44         23.0      82.3  7.8     264.0    rice\n",
      "3      74  35  40         26.5      80.2  7.0     242.9    rice\n",
      "4      78  42  42         20.1      81.6  7.6     262.7    rice\n",
      "...   ...  ..  ..          ...       ...  ...       ...     ...\n",
      "2195  107  34  32         26.8      66.4  6.8     177.8  coffee\n",
      "2196   99  15  27         27.4      56.6  6.1     127.9  coffee\n",
      "2197  118  33  30         24.1      67.2  6.4     173.3  coffee\n",
      "2198  117  32  34         26.3      52.1  6.8     127.2  coffee\n",
      "2199  104  18  30         23.6      60.4  6.8     140.9  coffee\n",
      "\n",
      "[2200 rows x 8 columns]\n"
     ]
    }
   ],
   "source": [
    "df[['temperature','humidity', 'ph', 'rainfall']] = df[['temperature','humidity', 'ph', 'rainfall']].round(1)\n",
    "df = df.rename(columns={'label': 'crop'})\n",
    "\n",
    "print(df)\n",
    "df.to_csv('data/processed/crop_data.csv', index=False)\n"
   ]
  }
 ],
 "metadata": {
  "kernelspec": {
   "display_name": "Python 3",
   "language": "python",
   "name": "python3"
  },
  "language_info": {
   "codemirror_mode": {
    "name": "ipython",
    "version": 3
   },
   "file_extension": ".py",
   "mimetype": "text/x-python",
   "name": "python",
   "nbconvert_exporter": "python",
   "pygments_lexer": "ipython3",
   "version": "3.11.9"
  }
 },
 "nbformat": 4,
 "nbformat_minor": 5
}
